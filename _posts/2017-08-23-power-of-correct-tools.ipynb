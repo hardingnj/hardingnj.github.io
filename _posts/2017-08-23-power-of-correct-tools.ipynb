{
 "cells": [
  {
   "cell_type": "markdown",
   "metadata": {
    "deletable": true,
    "editable": true
   },
   "source": [
    "This blog is an introduction to two python modules, `msprime` (by Jerome Kelleher) and `scikit-allel` (by Alistair Miles), both of whom are based in Oxford at the [Big Data Institute](https://www.bdi.ox.ac.uk/). They are both really great tools, and if you work with genomic data I would encourage you to take a look at them.\n",
    "\n",
    "However, the particular point I'd like to make here is that they work *really* nicely together. "
   ]
  },
  {
   "cell_type": "markdown",
   "metadata": {
    "deletable": true,
    "editable": true
   },
   "source": [
    "[msprime](https://msprime.readthedocs.io/en/stable/) is a coalescent simulator with a python interface, essentially an efficient version of `ms`, that also writes data in a sensible format, a compressed sequence tree rather than text files that need to be parsed (which are the bane of bioinformaticians)."
   ]
  },
  {
   "cell_type": "markdown",
   "metadata": {
    "deletable": true,
    "editable": true
   },
   "source": [
    "[scikit-allel](https://scikit-allel.readthedocs.io/en/latest/) is a toolkit for working with genomic data. Crucially it abstracts data chunking and compression allowing handling of extremely large datasets on a desktop machine. It has a wealth of functions, and is very fast."
   ]
  },
  {
   "cell_type": "markdown",
   "metadata": {
    "deletable": true,
    "editable": true
   },
   "source": [
    "It's easy to imagine taking several days to construct and debug an `ms` command, parse the results into something `plink` can work with, compute summary statistics, then parse that into a format appropriate for a plotting library. What I will show here is that this is possible in a few very readable lines of python.\n",
    "\n",
    "Writing your own parsing code is prone to bugs, even for experienced coders. It's almost invariably inefficient, and harder to maintain/reproduce when you have several tools in your chain."
   ]
  },
  {
   "cell_type": "markdown",
   "metadata": {
    "deletable": true,
    "editable": true
   },
   "source": [
    "## Here comes some code..."
   ]
  },
  {
   "cell_type": "markdown",
   "metadata": {
    "deletable": true,
    "editable": true
   },
   "source": [
    "We begin as usual by importing some essential libraries. As well as the two that are the subject of this blog, we use `numpy` to create a format from `msprime` that `allel` can understand, `pandas` for handling tabular data, and the `seaborn` wrapper to `matplotlib` for plotting."
   ]
  },
  {
   "cell_type": "code",
   "execution_count": 1,
   "metadata": {
    "collapsed": true,
    "deletable": true,
    "editable": true
   },
   "outputs": [],
   "source": [
    "import allel\n",
    "import msprime\n",
    "import seaborn as sns\n",
    "import pandas as pd\n",
    "%matplotlib inline"
   ]
  },
  {
   "cell_type": "code",
   "execution_count": 2,
   "metadata": {
    "collapsed": false,
    "deletable": true,
    "editable": true
   },
   "outputs": [
    {
     "data": {
      "text/plain": [
       "('0.4.0', '1.1.9')"
      ]
     },
     "execution_count": 2,
     "metadata": {},
     "output_type": "execute_result"
    }
   ],
   "source": [
    "msprime.__version__, allel.__version__"
   ]
  },
  {
   "cell_type": "markdown",
   "metadata": {
    "deletable": true,
    "editable": true
   },
   "source": [
    "### Overview\n",
    "\n",
    "The task I am going to work though is to simulate two populations, with different demographic histories, and see how genome summary statistics differ.\n",
    "\n",
    "- We'll draw 100 samples from a population size of 1000. Both populations have experienced bottlenecks, one very rapid, the other a gradual decline over many generations.\n",
    "\n",
    "- Population 1 has experienced a crash starting 40 generations ago, until 20 generations ago, declining at 25% per generation.\n",
    "\n",
    "- Poputation 2 has experienced a 0.5% per generation decline for 1000 generations. Both have been stable for 20 generations.\n",
    "\n",
    "Obviously here we can specify more complex demographic scenarios as needed!"
   ]
  },
  {
   "cell_type": "code",
   "execution_count": 3,
   "metadata": {
    "collapsed": true,
    "deletable": true,
    "editable": true
   },
   "outputs": [],
   "source": [
    "history_p1 = [\n",
    "    msprime.PopulationParametersChange(time=20, growth_rate=-0.25, population_id=0),\n",
    "    msprime.PopulationParametersChange(time=40, growth_rate=0, population_id=0)]"
   ]
  },
  {
   "cell_type": "code",
   "execution_count": 4,
   "metadata": {
    "collapsed": true,
    "deletable": true,
    "editable": true
   },
   "outputs": [],
   "source": [
    "history_p2 = [\n",
    "    msprime.PopulationParametersChange(time=20, growth_rate=-0.005, population_id=0),\n",
    "    msprime.PopulationParametersChange(time=1020, growth_rate=0, population_id=0)]"
   ]
  },
  {
   "cell_type": "code",
   "execution_count": 5,
   "metadata": {
    "collapsed": false,
    "deletable": true,
    "editable": true
   },
   "outputs": [],
   "source": [
    "pop_config = [msprime.PopulationConfiguration(\n",
    "    sample_size=100, initial_size=1000, growth_rate=0)]"
   ]
  },
  {
   "cell_type": "markdown",
   "metadata": {
    "deletable": true,
    "editable": true
   },
   "source": [
    "`msprime` also has this neat demography debugger feature so we can check the demographic history is as we intended."
   ]
  },
  {
   "cell_type": "code",
   "execution_count": 6,
   "metadata": {
    "collapsed": false,
    "deletable": true,
    "editable": true
   },
   "outputs": [
    {
     "name": "stdout",
     "output_type": "stream",
     "text": [
      "\n",
      "============================\n",
      "Epoch: 0 -- 20.0 generations\n",
      "============================\n",
      "     start     end      growth_rate |     0    \n",
      "   -------- --------       -------- | -------- \n",
      "0 |  1e+03    1e+03               0 |     0    \n",
      "\n",
      "Events @ generation 20.0\n",
      "   - Population parameter change for 0: growth_rate -> -0.25 \n",
      "\n",
      "===============================\n",
      "Epoch: 20.0 -- 40.0 generations\n",
      "===============================\n",
      "     start     end      growth_rate |     0    \n",
      "   -------- --------       -------- | -------- \n",
      "0 |  1e+03  1.48e+05          -0.25 |     0    \n",
      "\n",
      "Events @ generation 40.0\n",
      "   - Population parameter change for 0: growth_rate -> 0 \n",
      "\n",
      "==============================\n",
      "Epoch: 40.0 -- inf generations\n",
      "==============================\n",
      "     start     end      growth_rate |     0    \n",
      "   -------- --------       -------- | -------- \n",
      "0 |1.48e+05 1.48e+05              0 |     0    \n",
      "\n"
     ]
    }
   ],
   "source": [
    "dp = msprime.DemographyDebugger(population_configurations=pop_config,\n",
    "                                demographic_events=history_p1)\n",
    "\n",
    "dp.print_history()"
   ]
  },
  {
   "cell_type": "code",
   "execution_count": 7,
   "metadata": {
    "collapsed": false,
    "deletable": true,
    "editable": true
   },
   "outputs": [
    {
     "name": "stdout",
     "output_type": "stream",
     "text": [
      "\n",
      "============================\n",
      "Epoch: 0 -- 20.0 generations\n",
      "============================\n",
      "     start     end      growth_rate |     0    \n",
      "   -------- --------       -------- | -------- \n",
      "0 |  1e+03    1e+03               0 |     0    \n",
      "\n",
      "Events @ generation 20.0\n",
      "   - Population parameter change for 0: growth_rate -> -0.005 \n",
      "\n",
      "=================================\n",
      "Epoch: 20.0 -- 1020.0 generations\n",
      "=================================\n",
      "     start     end      growth_rate |     0    \n",
      "   -------- --------       -------- | -------- \n",
      "0 |  1e+03  1.48e+05         -0.005 |     0    \n",
      "\n",
      "Events @ generation 1020.0\n",
      "   - Population parameter change for 0: growth_rate -> 0 \n",
      "\n",
      "================================\n",
      "Epoch: 1020.0 -- inf generations\n",
      "================================\n",
      "     start     end      growth_rate |     0    \n",
      "   -------- --------       -------- | -------- \n",
      "0 |1.48e+05 1.48e+05              0 |     0    \n",
      "\n"
     ]
    }
   ],
   "source": [
    "dp = msprime.DemographyDebugger(population_configurations=pop_config,\n",
    "                                demographic_events=history_p2)\n",
    "\n",
    "dp.print_history()"
   ]
  },
  {
   "cell_type": "markdown",
   "metadata": {
    "collapsed": true,
    "deletable": true,
    "editable": true
   },
   "source": [
    "This function is the key part, and represents the interface between the two tools. I've tried to explain what's happening in the comments"
   ]
  },
  {
   "cell_type": "code",
   "execution_count": 8,
   "metadata": {
    "collapsed": true,
    "deletable": true,
    "editable": true
   },
   "outputs": [],
   "source": [
    "def growth_dem_model(pop_cfg, dem_hist, length=1e7, mu=3.5e-9, rrate=1e-8, seed=42):\n",
    "\n",
    "    \n",
    "    # call to msprime simulate method. This returns a generator of tree sequences. \n",
    "    # One gotcha I found is that the object returned is different if you use the num_replicates argument\n",
    "    tree_sequence = msprime.simulate(\n",
    "        length=length, recombination_rate=rrate,\n",
    "        mutation_rate=mu, random_seed=seed, \n",
    "        population_configurations=pop_cfg,\n",
    "        demographic_events=dem_hist)\n",
    "    \n",
    "    # print the number of mutations in the trees using an internal method\n",
    "    print(\"Simulated \", tree_sequence.get_num_mutations(), \"mutations\")\n",
    "    \n",
    "    # another method returns a generator for these variants and we instantiate as a list\n",
    "    _gt = [variant.genotypes for variant in tree_sequence.variants()]\n",
    "    \n",
    "    # create a haplotype array in allel from a list of numpy arrays of 0/1s\n",
    "    # as the dataset is reasonably small there is no need to use the chunking functionality of allel\n",
    "    gt = allel.HaplotypeArray(_gt)\n",
    "    \n",
    "    # scikit-allel expects integer values here rather than infinite sites model of msprime.\n",
    "    pos = allel.SortedIndex([int(variant.position) for variant in tree_sequence.variants()])\n",
    "    \n",
    "    return gt, pos"
   ]
  },
  {
   "cell_type": "markdown",
   "metadata": {
    "deletable": true,
    "editable": true
   },
   "source": [
    "We'll use a contig of 10 Mbp, and summarize the data in 10 kbp windows."
   ]
  },
  {
   "cell_type": "code",
   "execution_count": 9,
   "metadata": {
    "collapsed": true,
    "deletable": true,
    "editable": true
   },
   "outputs": [],
   "source": [
    "contig_length = 10000000\n",
    "window_size = 10000"
   ]
  },
  {
   "cell_type": "code",
   "execution_count": 10,
   "metadata": {
    "collapsed": false,
    "deletable": true,
    "editable": true
   },
   "outputs": [
    {
     "name": "stdout",
     "output_type": "stream",
     "text": [
      "Simulated  98234 mutations\n",
      "Simulated  70472 mutations\n",
      "CPU times: user 3min, sys: 60 ms, total: 3min\n",
      "Wall time: 3min\n"
     ]
    }
   ],
   "source": [
    "%%time\n",
    "simulations = {\"recent_crash\": growth_dem_model(pop_config, history_p1, length=contig_length),\n",
    "               \"slow_decline\": growth_dem_model(pop_config, history_p2, length=contig_length)}"
   ]
  },
  {
   "cell_type": "markdown",
   "metadata": {
    "deletable": true,
    "editable": true
   },
   "source": [
    "Initialize our data frame: create a multi-index from the combinations of the things we are interested in, and tell it how many rows to expect."
   ]
  },
  {
   "cell_type": "code",
   "execution_count": 11,
   "metadata": {
    "collapsed": true,
    "deletable": true,
    "editable": true
   },
   "outputs": [],
   "source": [
    "mi = pd.MultiIndex.from_product((simulations.keys(), (\"pi\", \"tajimaD\", \"wattersonTheta\")),\n",
    "                                names=[\"scenario\", \"statistic\"])\n",
    "\n",
    "df = pd.DataFrame(columns=mi, index=range(0, contig_length//window_size))"
   ]
  },
  {
   "cell_type": "markdown",
   "metadata": {
    "deletable": true,
    "editable": true
   },
   "source": [
    "Using the nice indexing features of pandas it's simple to write a loop, and save the data in the appropriate index.\n",
    "\n",
    "`allel` also returns some other values such as counts, and bin limits, which in this case we are not interested in, so we assign to `_`."
   ]
  },
  {
   "cell_type": "code",
   "execution_count": 12,
   "metadata": {
    "collapsed": false,
    "deletable": true,
    "editable": true
   },
   "outputs": [
    {
     "name": "stdout",
     "output_type": "stream",
     "text": [
      "CPU times: user 0 ns, sys: 0 ns, total: 0 ns\n",
      "Wall time: 7.63 µs\n"
     ]
    }
   ],
   "source": [
    "%time\n",
    "for key, (haps, pos) in simulations.items():\n",
    "    \n",
    "    pi, _, _, _ = allel.diversity.windowed_diversity(\n",
    "        pos, haps.count_alleles(), size=window_size, start=0, stop=contig_length)\n",
    "    \n",
    "    df[key, \"pi\"] = pi\n",
    "    \n",
    "    tjd, _, _ = allel.diversity.windowed_tajima_d(\n",
    "        pos, haps.count_alleles(), size=window_size, start=0, stop=contig_length)\n",
    "    \n",
    "    df[key, \"tajimaD\"] = tjd\n",
    "    \n",
    "    watt, _, _, _ = allel.diversity.windowed_watterson_theta(\n",
    "        pos, haps.count_alleles(), size=window_size, start=0, stop=contig_length)\n",
    "    \n",
    "    df[key, \"wattersonTheta\"] = watt"
   ]
  },
  {
   "cell_type": "code",
   "execution_count": 13,
   "metadata": {
    "collapsed": true
   },
   "outputs": [],
   "source": [
    "from IPython.display import HTML"
   ]
  },
  {
   "cell_type": "markdown",
   "metadata": {},
   "source": [
    "(I haven't yet figured out how to get multi-index tables to look nice in markdown/html- apologies!)"
   ]
  },
  {
   "cell_type": "code",
   "execution_count": 14,
   "metadata": {
    "collapsed": false,
    "deletable": true,
    "editable": true
   },
   "outputs": [
    {
     "data": {
      "text/html": [
       "<table border=\"1\" class=\"dataframe\">\n",
       "  <thead>\n",
       "    <tr>\n",
       "      <th>scenario</th>\n",
       "      <th colspan=\"3\" halign=\"left\">recent_crash</th>\n",
       "      <th colspan=\"3\" halign=\"left\">slow_decline</th>\n",
       "    </tr>\n",
       "    <tr>\n",
       "      <th>statistic</th>\n",
       "      <th>pi</th>\n",
       "      <th>tajimaD</th>\n",
       "      <th>wattersonTheta</th>\n",
       "      <th>pi</th>\n",
       "      <th>tajimaD</th>\n",
       "      <th>wattersonTheta</th>\n",
       "    </tr>\n",
       "  </thead>\n",
       "  <tbody>\n",
       "    <tr>\n",
       "      <th>0</th>\n",
       "      <td>0.0026</td>\n",
       "      <td>1.0976</td>\n",
       "      <td>0.0019</td>\n",
       "      <td>0.0019</td>\n",
       "      <td>2.5442</td>\n",
       "      <td>0.0011</td>\n",
       "    </tr>\n",
       "    <tr>\n",
       "      <th>1</th>\n",
       "      <td>0.0023</td>\n",
       "      <td>1.0926</td>\n",
       "      <td>0.0017</td>\n",
       "      <td>0.0027</td>\n",
       "      <td>2.5882</td>\n",
       "      <td>0.0015</td>\n",
       "    </tr>\n",
       "    <tr>\n",
       "      <th>2</th>\n",
       "      <td>0.0023</td>\n",
       "      <td>1.0936</td>\n",
       "      <td>0.0017</td>\n",
       "      <td>0.0030</td>\n",
       "      <td>2.6009</td>\n",
       "      <td>0.0017</td>\n",
       "    </tr>\n",
       "    <tr>\n",
       "      <th>3</th>\n",
       "      <td>0.0023</td>\n",
       "      <td>1.0940</td>\n",
       "      <td>0.0018</td>\n",
       "      <td>0.0023</td>\n",
       "      <td>2.5704</td>\n",
       "      <td>0.0013</td>\n",
       "    </tr>\n",
       "    <tr>\n",
       "      <th>4</th>\n",
       "      <td>0.0022</td>\n",
       "      <td>1.0915</td>\n",
       "      <td>0.0017</td>\n",
       "      <td>0.0020</td>\n",
       "      <td>2.5470</td>\n",
       "      <td>0.0011</td>\n",
       "    </tr>\n",
       "  </tbody>\n",
       "</table>"
      ],
      "text/plain": [
       "<IPython.core.display.HTML object>"
      ]
     },
     "execution_count": 14,
     "metadata": {},
     "output_type": "execute_result"
    }
   ],
   "source": [
    "HTML(df.head().to_html(float_format='%.4f'))"
   ]
  },
  {
   "cell_type": "code",
   "execution_count": 15,
   "metadata": {
    "collapsed": false,
    "deletable": true,
    "editable": true
   },
   "outputs": [
    {
     "data": {
      "image/png": "[encoded data removed]",
      "text/plain": [
       "<matplotlib.figure.Figure at 0x7fdd0f016da0>"
      ]
     },
     "metadata": {},
     "output_type": "display_data"
    }
   ],
   "source": [
    "_ = sns.factorplot(x=\"scenario\", y=\"value\", col=\"statistic\", \n",
    "                   data=df.melt(), kind=\"violin\", sharey=False)"
   ]
  },
  {
   "cell_type": "markdown",
   "metadata": {},
   "source": [
    "Thanks for reading this far! Hope something was of use. "
   ]
  }
 ],
 "metadata": {
  "kernelspec": {
   "display_name": "Python 3",
   "language": "python",
   "name": "python3"
  },
  "language_info": {
   "codemirror_mode": {
    "name": "ipython",
    "version": 3
   },
   "file_extension": ".py",
   "mimetype": "text/x-python",
   "name": "python",
   "nbconvert_exporter": "python",
   "pygments_lexer": "ipython3",
   "version": "3.5.3"
  }
 },
 "nbformat": 4,
 "nbformat_minor": 2
}
