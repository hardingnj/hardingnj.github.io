{
 "cells": [
  {
   "cell_type": "code",
   "execution_count": null,
   "metadata": {},
   "outputs": [],
   "source": [
    "sys.path.insert(0, '../../../selection_paper/agam-report-base/src/python')\n",
    "ag1k_dir = '/kwiat/vector/ag1000g/release'\n",
    "from ag1k import phase1_ar3"
   ]
  },
  {
   "cell_type": "code",
   "execution_count": null,
   "metadata": {},
   "outputs": [],
   "source": [
    "phase1_ar3.init(os.path.join(ag1k_dir, 'phase1.AR3'))"
   ]
  },
  {
   "cell_type": "code",
   "execution_count": null,
   "metadata": {},
   "outputs": [],
   "source": [
    "chromosomes = \"2R\", \"2L\", \"3R\", \"3L\", \"X\""
   ]
  },
  {
   "cell_type": "code",
   "execution_count": null,
   "metadata": {},
   "outputs": [],
   "source": [
    "@functools.lru_cache()\n",
    "def calculate_summary_stats(chrom, pop, window_size=100000):\n",
    "    \n",
    "    ix = phase1_ar3.df_samples.query(\"population == @pop\").index\n",
    "    accessibility = phase1_ar3.accessibility[chrom][\"is_accessible\"][:]\n",
    "    \n",
    "    pos = allel.SortedIndex(phase1_ar3.callset_pass[chrom][\"variants/POS\"][:])\n",
    "    eqw = allel.equally_accessible_windows(accessibility, window_size)\n",
    "    g = allel.GenotypeChunkedArray(\n",
    "        phase1_ar3.callset_pass[chrom][\"calldata/genotype\"]).take(ix, axis=1)\n",
    "    ac = g.count_alleles()\n",
    "    \n",
    "    theta, wins, nb, counts = allel.stats.windowed_watterson_theta(\n",
    "        pos, ac, windows=eqw, is_accessible=accessibility)\n",
    "    \n",
    "    pi, wins, nb, counts = allel.stats.windowed_diversity(\n",
    "        pos, ac, windows=eqw, is_accessible=accessibility)\n",
    "    \n",
    "    tajD, wins, counts = allel.stats.windowed_tajima_d(pos, ac, windows=eqw)\n",
    "    \n",
    "    df = pd.DataFrame.from_dict({\"start\": eqw[:, 0], \n",
    "                                 \"stop\": eqw[:, 1], \n",
    "                                 \"diversity\": pi, \n",
    "                                 \"tajimaD\": tajD, \n",
    "                                 \"theta\": theta})\n",
    "\n",
    "    df[\"midpoint\"] = eqw.mean(1)\n",
    "    \n",
    "    return df"
   ]
  },
  {
   "cell_type": "code",
   "execution_count": null,
   "metadata": {},
   "outputs": [],
   "source": [
    "stats = {c: calculate_summary_stats(chrom=c, pop=\"BFS\", window_size=100000) for c in chromosomes}"
   ]
  },
  {
   "cell_type": "code",
   "execution_count": null,
   "metadata": {},
   "outputs": [],
   "source": [
    "### Use a .gff3 file to annotate above windows"
   ]
  },
  {
   "cell_type": "code",
   "execution_count": null,
   "metadata": {},
   "outputs": [],
   "source": [
    "gff3 = allel.FeatureTable.from_gff3(phase1_ar3.geneset_agamp42_fn, attributes=[\"ID\"])"
   ]
  },
  {
   "cell_type": "code",
   "execution_count": null,
   "metadata": {},
   "outputs": [],
   "source": [
    "gff3"
   ]
  },
  {
   "cell_type": "code",
   "execution_count": null,
   "metadata": {},
   "outputs": [],
   "source": [
    "annotated_data = {}\n",
    "\n",
    "# annotate these data\n",
    "for chrom in chromosomes:\n",
    "\n",
    "    d = stats[chrom].copy()\n",
    "    \n",
    "    # extract the relevant seq id and use pandas interval indexing\n",
    "    features = pd.DataFrame(gff3.query(\"seqid == '{0}'\".format(chrom)).values)\n",
    "    features.index = pd.IntervalIndex.from_arrays(\n",
    "        features.start, features.end, closed=\"both\")\n",
    "\n",
    "    # logic to extract relevant rows, filter by annot type, \n",
    "    # drop duplicates and join ID column \n",
    "    d[\"gene\"] = d.apply(\n",
    "        lambda y: \", \".join(\n",
    "            features.loc[[y.start, y.stop]].query(\n",
    "                \"type == 'gene'\").ID.drop_duplicates()), 1)\n",
    "\n",
    "    annotated_data[chrom] = d"
   ]
  }
 ],
 "metadata": {
  "kernelspec": {
   "display_name": "Python 3",
   "language": "python",
   "name": "python3"
  },
  "language_info": {
   "codemirror_mode": {
    "name": "ipython",
    "version": 3
   },
   "file_extension": ".py",
   "mimetype": "text/x-python",
   "name": "python",
   "nbconvert_exporter": "python",
   "pygments_lexer": "ipython3",
   "version": "3.5.4"
  }
 },
 "nbformat": 4,
 "nbformat_minor": 2
}
